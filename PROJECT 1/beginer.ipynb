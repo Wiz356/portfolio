{
 "cells": [
  {
   "cell_type": "code",
   "execution_count": null,
   "id": "60d3ec62",
   "metadata": {},
   "outputs": [
    {
     "data": {
      "text/plain": [
       "1000\n"
      ]
     },
     "metadata": {},
     "output_type": "display_data"
    }
   ],
   "source": [
    "#Variables-storing info in computer memory\n",
    "#Example\n",
    "students_count=1000\n",
    "print(students_count)"
   ]
  },
  {
   "cell_type": "code",
   "execution_count": null,
   "id": "cac9ac61",
   "metadata": {},
   "outputs": [],
   "source": [
    "#Types of data\n",
    "#integer=1000(whole num)\n",
    "#float=4.99(decimal)\n",
    "#boolean=True/False\n",
    "#string=course_name=\"web development\""
   ]
  },
  {
   "cell_type": "code",
   "execution_count": null,
   "id": "35765254",
   "metadata": {},
   "outputs": [
    {
     "data": {
      "text/plain": [
       "\n",
       "Hi \n",
       "My name is Denzel \n",
       "\n",
       "blah blah blah\n",
       "\n"
      ]
     },
     "metadata": {},
     "output_type": "display_data"
    }
   ],
   "source": [
    "#strings\n",
    "message = \"\"\"\n",
    "Hi \n",
    "My name is Denzel \n",
    "\n",
    "blah blah blah\n",
    "\"\"\"\n",
    "print(message)\n",
    "\n",
    "#Tripple quotes used for long text"
   ]
  },
  {
   "cell_type": "code",
   "execution_count": null,
   "id": "f08d385a",
   "metadata": {},
   "outputs": [
    {
     "data": {
      "text/plain": [
       "15\n",
       "w\n",
       "t\n",
       "web\n",
       "web development\n",
       "web\n",
       "web development\n"
      ]
     },
     "metadata": {},
     "output_type": "display_data"
    }
   ],
   "source": [
    "#functions\n",
    "#len() - number of charc\n",
    "#example\n",
    "\n",
    "course = \"web development\"\n",
    "print(len(course))\n",
    "print(course[0])\n",
    "print(course[-1])\n",
    "print(course[0:3])\n",
    "print(course[0:])\n",
    "print(course[:3])\n",
    "print(course[:])"
   ]
  },
  {
   "cell_type": "code",
   "execution_count": null,
   "id": "07631e33",
   "metadata": {},
   "outputs": [
    {
     "data": {
      "text/plain": [
       "web \n",
       " development\n"
      ]
     },
     "metadata": {},
     "output_type": "display_data"
    }
   ],
   "source": [
    "# \\n - for new line\n",
    "\n",
    "\n",
    "course = \"web \\\"development\"\n",
    "course = \"web \\n development\"\n",
    "print(course)"
   ]
  },
  {
   "cell_type": "code",
   "execution_count": null,
   "id": "ed11ad16",
   "metadata": {},
   "outputs": [
    {
     "data": {
      "text/plain": [
       "Denzel Washington\n"
      ]
     },
     "metadata": {},
     "output_type": "display_data"
    }
   ],
   "source": [
    "#formatted strings\n",
    "\n",
    "first = \"Denzel\"\n",
    "last = \"Washington\"\n",
    "full = f\"{first} {last}\"\n",
    "print(full)"
   ]
  },
  {
   "cell_type": "code",
   "execution_count": null,
   "id": "e54e75f0",
   "metadata": {},
   "outputs": [
    {
     "data": {
      "text/plain": [
       "  COMPUTER PACKAGES\n",
       "  computer packages\n",
       "  Computer Packages\n",
       "computer packages\n",
       "11\n",
       "  computer backages\n",
       "True\n",
       "True\n"
      ]
     },
     "metadata": {},
     "output_type": "display_data"
    }
   ],
   "source": [
    "course = \"  computer packages\"\n",
    "print(course.upper())\n",
    "print(course)\n",
    "print(course.title())\n",
    "print(course.strip())\n",
    "print(course.find(\"pack\"))\n",
    "print(course.replace(\"pack\", \"back\"))\n",
    "print(\"comp\" in course)\n",
    "print(\"web\" not in course)"
   ]
  },
  {
   "cell_type": "code",
   "execution_count": null,
   "id": "37b28507",
   "metadata": {},
   "outputs": [
    {
     "data": {
      "text/plain": [
       "3.3333333333333335\n",
       "3\n",
       "30\n",
       "13\n",
       "7\n",
       "1\n",
       "2\n",
       "1000\n"
      ]
     },
     "metadata": {},
     "output_type": "display_data"
    }
   ],
   "source": [
    "#numers\n",
    "\n",
    "print(10/3)\n",
    "print(10//3)\n",
    "print(10*3)\n",
    "print(10+3)\n",
    "print(10-3)\n",
    "print(10%3)\n",
    "print(20%3) #modulus rem after division\n",
    "print(10**3) #ten power three"
   ]
  },
  {
   "cell_type": "code",
   "execution_count": null,
   "id": "e820f8e4",
   "metadata": {},
   "outputs": [],
   "source": [
    "course = \"python programming\"\n"
   ]
  }
 ],
 "metadata": {
  "language_info": {
   "name": "python"
  }
 },
 "nbformat": 4,
 "nbformat_minor": 5
}
